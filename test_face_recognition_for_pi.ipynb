{
 "cells": [
  {
   "cell_type": "code",
   "execution_count": 1,
   "metadata": {},
   "outputs": [
    {
     "name": "stderr",
     "output_type": "stream",
     "text": [
      "C:\\Users\\windo\\Anaconda3\\lib\\site-packages\\h5py\\__init__.py:36: FutureWarning: Conversion of the second argument of issubdtype from `float` to `np.floating` is deprecated. In future, it will be treated as `np.float64 == np.dtype(float).type`.\n",
      "  from ._conv import register_converters as _register_converters\n",
      "Using TensorFlow backend.\n"
     ]
    }
   ],
   "source": [
    "import numpy as np\n",
    "import cv2\n",
    "import dlib\n",
    "from utils import load_face_landmark_model, load_fr_model, load_embeddings_model, load_face_detector, load_inv_label_dictionary\n",
    "from collections import Counter"
   ]
  },
  {
   "cell_type": "code",
   "execution_count": 2,
   "metadata": {},
   "outputs": [],
   "source": [
    "face_landmarks_model = load_face_landmark_model()\n",
    "fr_model = load_fr_model()\n",
    "face_detector = load_face_detector()\n",
    "font = cv2.FONT_HERSHEY_SIMPLEX\n",
    "svm = load_embeddings_model(model='svm')\n",
    "inv_label_dictionary = load_inv_label_dictionary()\n",
    "\n",
    "no_frames = 20"
   ]
  },
  {
   "cell_type": "code",
   "execution_count": null,
   "metadata": {},
   "outputs": [],
   "source": []
  },
  {
   "cell_type": "code",
   "execution_count": null,
   "metadata": {},
   "outputs": [
    {
     "name": "stdout",
     "output_type": "stream",
     "text": [
      "c\n",
      "Frames Captured\n",
      "['Prateek', 'Prateek', 'Prateek', 'Prateek', 'Prateek', 'Prateek', 'Prateek', 'Prateek', 'Prateek', 'Prateek', 'Prateek', 'Prateek', 'Prateek', 'Prateek', 'Prateek', 'Prateek', 'Prateek', 'Prateek', 'Prateek', 'Prateek']\n",
      "Unlocked\n",
      "Prateek\n",
      "\n"
     ]
    }
   ],
   "source": [
    "def predict_face(rgb, dlib_box):\n",
    "    pose = face_landmarks_model(rgb, dlib_box)\n",
    "    embedding = np.array(fr_model.compute_face_descriptor(rgb, pose, 1))\n",
    "    name = svm.predict_proba([embedding])[0]\n",
    "\n",
    "    max_arg = name.argmax()\n",
    "\n",
    "    if name[max_arg] > 0.96:\n",
    "        label = inv_label_dictionary[max_arg]\n",
    "        probab = round(name[max_arg]*100, 2)\n",
    "    else:\n",
    "        label = \"Others\"\n",
    "        probab = 0.95\n",
    "    \n",
    "    return label, probab\n",
    "\n",
    "\n",
    "def recognize_faces(gray, rgb):\n",
    "    prediction = []\n",
    "    probability = []\n",
    "    \n",
    "    try:\n",
    "        faces = face_detector(gray, 1)\n",
    "        for face_rect in faces:\n",
    "            x, y, w, h = face_rect.left(), face_rect.top(), face_rect.right(), face_rect.bottom()\n",
    "\n",
    "            dlib_box = dlib.rectangle(x, y, w, h)\n",
    "            roi = gray[y:h, x:w]\n",
    "\n",
    "            face_prediction, face_probab = predict_face(rgb, dlib_box)\n",
    "            prediction.append(face_prediction)\n",
    "            probability.append((face_probab))\n",
    "    \n",
    "    except Exception as e:\n",
    "        pass\n",
    "        \n",
    "    return prediction, probability\n",
    "\n",
    "\n",
    "def unlock(name):\n",
    "    print(\"Unlocked\")\n",
    "    print(name)\n",
    "    print()\n",
    "\n",
    "\n",
    "while True:\n",
    "    inp = input()\n",
    "    if inp == 'c':\n",
    "        try:\n",
    "            cam = cv2.VideoCapture(0)\n",
    "            face_predictions = []\n",
    "            face_probab = []\n",
    "            frame_pipeline = []\n",
    "\n",
    "            ret, img = cam.read()\n",
    "\n",
    "            while(len(frame_pipeline) < no_frames):\n",
    "                frame_pipeline.append(img)\n",
    "\n",
    "            print(\"Frames Captured\")\n",
    "            cam.release()\n",
    "            for img in frame_pipeline:\n",
    "                gray = cv2.cvtColor(img, cv2.COLOR_BGR2GRAY)\n",
    "                rgb = cv2.cvtColor(img, cv2.COLOR_BGR2RGB)\n",
    "                pred, probab = recognize_faces(gray, rgb)\n",
    "                for i in range(len(pred)):\n",
    "                    face_predictions.append(pred[i])\n",
    "                    face_probab.append(probab[i])\n",
    "\n",
    "\n",
    "            print(face_predictions)\n",
    "            counter_dict = Counter(face_predictions)\n",
    "            keys, values = list(counter_dict.keys()), list(counter_dict.values())\n",
    "            max_value = max(values)\n",
    "            max_value_index = values.index(max_value)\n",
    "            max_pred = keys[max_value_index]\n",
    "\n",
    "            tot_prob = 0\n",
    "            for i in range(len(face_predictions)):\n",
    "                if face_predictions[i] == max_pred:\n",
    "                    tot_prob = tot_prob + face_probab[i]\n",
    "\n",
    "\n",
    "            if tot_prob > max_value * 0.95:\n",
    "                unlock(max_pred)\n",
    "            else:\n",
    "                print(\"Try Again\")\n",
    "                print()\n",
    "\n",
    "            cam.release()\n",
    "        except Exception as e:\n",
    "            print(e)\n",
    "            print(\"Try Again\")\n",
    "            print()"
   ]
  },
  {
   "cell_type": "code",
   "execution_count": null,
   "metadata": {},
   "outputs": [],
   "source": []
  }
 ],
 "metadata": {
  "kernelspec": {
   "display_name": "Python 3",
   "language": "python",
   "name": "python3"
  },
  "language_info": {
   "codemirror_mode": {
    "name": "ipython",
    "version": 3
   },
   "file_extension": ".py",
   "mimetype": "text/x-python",
   "name": "python",
   "nbconvert_exporter": "python",
   "pygments_lexer": "ipython3",
   "version": "3.6.5"
  }
 },
 "nbformat": 4,
 "nbformat_minor": 2
}
